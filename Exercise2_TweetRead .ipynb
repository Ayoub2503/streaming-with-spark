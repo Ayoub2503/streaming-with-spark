{
 "cells": [
  {
   "cell_type": "markdown",
   "metadata": {},
   "source": [
    "This program use the **Tweepy** library to get the tweets from Twitter API using Python and passes them to the Spark Streaming instance.\n",
    "$\\newline$First, we set up our **Twitter credentials** to have the authorization to take tweets from it. Next, we will create a TweetsListener, which is a class that inherit from the StreamLister class, and it would be responsible for the streaming itself. For initialization, we provide a socket object and implement two methods : on_data and on_error. The first method is responsible for receiving data from the Twitter stream and sending it to a socket. The second is used for receiving error messages and printing it.\n",
    "$\\newline$ Then, we connect to Twitter streaming by using the **sendTweets** method which will have a socket object as a parameter and create a stream object instance.\n",
    "$\\newline$Finally, to start streaming, we create a socket object, obtain the local machine name which is **'127.0.0.1'**, reserve a port for your service on the host, bind to the port, wait for a client connection which would be from the **streaming** notebook and call **sendTweets** method to build a new connection, and here we will pick all the tweets containing the covid and newyear tag."
   ]
  },
  {
   "cell_type": "code",
   "execution_count": null,
   "metadata": {
    "scrolled": true
   },
   "outputs": [],
   "source": [
    "import tweepy\n",
    "from tweepy import OAuthHandler\n",
    "from tweepy import Stream\n",
    "from tweepy.streaming import StreamListener\n",
    "import socket\n",
    "import json\n",
    "\n",
    "# Set up the Twitter credentials\n",
    "access_token = ''\n",
    "access_secret = ''\n",
    "consumer_key = ''\n",
    "consumer_secret = ''\n",
    "\n",
    "\n",
    "# We will create a TweetsListener\n",
    "class TweetsListener(StreamListener):\n",
    "\n",
    "    def __init__(self, csocket):\n",
    "        self.client_socket = csocket\n",
    "\n",
    "    def on_data(self, data):\n",
    "        try:\n",
    "            msg = json.loads(data)\n",
    "            #print(msg['text'].encode('utf-8') )\n",
    "            self.client_socket.send( msg['text'].encode('utf-8') )\n",
    "            return True\n",
    "        except BaseException as e:\n",
    "            print(\"Error on_data: \",str(e))\n",
    "        return True\n",
    "    def on_error(self, status):\n",
    "        print(status)\n",
    "        return True\n",
    "\n",
    "\n",
    "def sendTweets(c_socket):\n",
    "    twitter_stream = Stream(auth, TweetsListener(c_socket))\n",
    "    twitter_stream.filter(track=['covid','newyear'])\n",
    "\n",
    "    \n",
    "if __name__ == \"__main__\":\n",
    "    auth = OAuthHandler(consumer_key, consumer_secret) # Authorize streaming with our credentials\n",
    "    auth.set_access_token(access_token, access_secret)\n",
    "    s = socket.socket()                                # Create a socket object\n",
    "    host = \"127.0.0.1\"                                 # Get local machine name\n",
    "    port = 9995                                        # Reserve a port for your service.\n",
    "    s.bind((host, port))                               # Bind to the port\n",
    "    print(\"Listening ...\")\n",
    "    s.listen(5)                                        # Waiting for client connection.\n",
    "    c, addr = s.accept()                               # Establish connection with client.\n",
    "    print(\"Received request from: \",addr)\n",
    "    sendTweets(c)                                      # Send data to the server"
   ]
  }
 ],
 "metadata": {
  "kernelspec": {
   "display_name": "Python 3 (ipykernel)",
   "language": "python",
   "name": "python3"
  },
  "language_info": {
   "codemirror_mode": {
    "name": "ipython",
    "version": 3
   },
   "file_extension": ".py",
   "mimetype": "text/x-python",
   "name": "python",
   "nbconvert_exporter": "python",
   "pygments_lexer": "ipython3",
   "version": "3.9.7"
  }
 },
 "nbformat": 4,
 "nbformat_minor": 4
}
